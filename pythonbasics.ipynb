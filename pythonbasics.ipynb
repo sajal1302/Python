{
 "cells": [
  {
   "cell_type": "code",
   "execution_count": 2,
   "metadata": {},
   "outputs": [],
   "source": [
    "# Python "
   ]
  },
  {
   "cell_type": "code",
   "execution_count": 3,
   "metadata": {},
   "outputs": [
    {
     "name": "stdout",
     "output_type": "stream",
     "text": [
      "hello world\n"
     ]
    }
   ],
   "source": [
    "# printing a statement\n",
    "\n",
    "print('hello world')"
   ]
  },
  {
   "cell_type": "code",
   "execution_count": 5,
   "metadata": {},
   "outputs": [
    {
     "name": "stdout",
     "output_type": "stream",
     "text": [
      "30\n",
      "4.5\n",
      "helloworld\n"
     ]
    }
   ],
   "source": [
    "# variable\n",
    "\n",
    "myNumber = 30\n",
    "print(myNumber) \n",
    "  \n",
    "myNumber2 = 4.50\n",
    "print(myNumber2) \n",
    "  \n",
    "myNumber =\"helloworld\"\n",
    "print(myNumber) "
   ]
  },
  {
   "cell_type": "code",
   "execution_count": 7,
   "metadata": {},
   "outputs": [
    {
     "name": "stdout",
     "output_type": "stream",
     "text": [
      "[211, 450.5, 'String hello']\n"
     ]
    }
   ],
   "source": [
    "# list\n",
    "\n",
    "# creates a empty list \n",
    "nums = []  \n",
    "  \n",
    "# appending data in list \n",
    "nums.append(211) \n",
    "nums.append(450.5) \n",
    "nums.append(\"String hello\") \n",
    "  \n",
    "print(nums) "
   ]
  },
  {
   "cell_type": "code",
   "execution_count": 9,
   "metadata": {},
   "outputs": [
    {
     "name": "stdout",
     "output_type": "stream",
     "text": [
      "Enter your age: 21\n",
      "Enter your name: steve\n",
      "my age is  21\n",
      "hello steve\n"
     ]
    }
   ],
   "source": [
    "# Input and output\n",
    "\n",
    "# Taking input from user\n",
    "\n",
    "\n",
    "age = input(\"Enter your age: \") \n",
    "name = input(\"Enter your name: \") \n",
    "print(\"my age is \",age)\n",
    "print(\"hello\", name) \n",
    "  \n",
    "\n",
    "\n"
   ]
  },
  {
   "cell_type": "code",
   "execution_count": 11,
   "metadata": {},
   "outputs": [
    {
     "name": "stdout",
     "output_type": "stream",
     "text": [
      "Enter num1: 2\n",
      "Enter num2: 3\n",
      "addition is:  5\n"
     ]
    }
   ],
   "source": [
    "# accepting integer from the user\n",
    "num1 = int(input(\"Enter num1: \"))  \n",
    "num2 = int(input(\"Enter num2: \")) \n",
    "  \n",
    "num3 = num1 + num2 \n",
    "print(\"addition is: \", num3)"
   ]
  },
  {
   "cell_type": "code",
   "execution_count": 12,
   "metadata": {},
   "outputs": [
    {
     "name": "stdout",
     "output_type": "stream",
     "text": [
      "Num1 is bad\n"
     ]
    }
   ],
   "source": [
    "# selection statement \n",
    "  \n",
    "num1 = 98\n",
    "if(num1>12): \n",
    "    print(\"Num1 is bad\") \n",
    "elif(num1>35): \n",
    "    print(\"Num1 is not good\") \n",
    "else: \n",
    "    print(\"Num1 is best\") "
   ]
  },
  {
   "cell_type": "code",
   "execution_count": 15,
   "metadata": {},
   "outputs": [
    {
     "name": "stdout",
     "output_type": "stream",
     "text": [
      "my name is steve\n",
      "my hometown is XYZ\n"
     ]
    }
   ],
   "source": [
    "#function \n",
    "\n",
    "# functions \n",
    "def aboutme(): \n",
    "    print(\"my name is steve\") \n",
    "    print(\"my hometown is XYZ\") \n",
    "\n",
    "  \n",
    "# calling function \n",
    "aboutme()    "
   ]
  },
  {
   "cell_type": "code",
   "execution_count": 19,
   "metadata": {},
   "outputs": [
    {
     "name": "stdout",
     "output_type": "stream",
     "text": [
      "Started\n",
      "Enter integer: 5\n",
      "5\n"
     ]
    }
   ],
   "source": [
    "# Main function\n",
    "def Int(): \n",
    "    result = int(input(\"Enter integer: \")) \n",
    "    return result \n",
    "def Main(): \n",
    "    print(\"Started\") \n",
    "# calling the tInt function and  \n",
    "# storing its returned value in the output variable \n",
    "    output = Int()      \n",
    "    print(output) \n",
    "    \n",
    "if __name__ ==\"__main__\":\n",
    "    Main()"
   ]
  },
  {
   "cell_type": "code",
   "execution_count": 21,
   "metadata": {},
   "outputs": [
    {
     "name": "stdout",
     "output_type": "stream",
     "text": [
      "0\n",
      "1\n",
      "2\n",
      "3\n",
      "4\n"
     ]
    }
   ],
   "source": [
    "# Looping\n",
    "for s in range(5):     \n",
    "    print(s) "
   ]
  },
  {
   "cell_type": "code",
   "execution_count": 22,
   "metadata": {},
   "outputs": [
    {
     "name": "stdout",
     "output_type": "stream",
     "text": [
      "Enter a number: 8997.33\n",
      "8997.33\n"
     ]
    }
   ],
   "source": [
    "# Module\n",
    "\n",
    "import math \n",
    "  \n",
    "def Main(): \n",
    "    num = float(input(\"Enter a number: \")) \n",
    "    # fabs is used to get the absolute value of a decimal \n",
    "    num = math.fabs(num)  \n",
    "    print(num) \n",
    "if __name__==\"__main__\": \n",
    "    Main() \n"
   ]
  },
  {
   "cell_type": "code",
   "execution_count": 1,
   "metadata": {},
   "outputs": [
    {
     "data": {
      "text/plain": [
       "'C:\\\\Users\\\\hp'"
      ]
     },
     "execution_count": 1,
     "metadata": {},
     "output_type": "execute_result"
    }
   ],
   "source": [
    "# pwd is used to check where the file is saved\n",
    "pwd"
   ]
  },
  {
   "cell_type": "code",
   "execution_count": 2,
   "metadata": {},
   "outputs": [
    {
     "name": "stdout",
     "output_type": "stream",
     "text": [
      "True\n",
      "True\n",
      "3\n",
      "1\n"
     ]
    }
   ],
   "source": [
    "# keywords\n",
    "#TRUE AND FALSE\n",
    "print (False == 0)\n",
    "print (True == 1)\n",
    "  \n",
    "print (True + True + True)\n",
    "print (True + False + False)\n"
   ]
  },
  {
   "cell_type": "code",
   "execution_count": 3,
   "metadata": {},
   "outputs": [
    {
     "name": "stdout",
     "output_type": "stream",
     "text": [
      "False\n",
      "True\n",
      "True\n",
      "False\n",
      "False\n"
     ]
    }
   ],
   "source": [
    "\n",
    "# Python code to demonstrate True, False, None, and, or , not \n",
    "  \n",
    "# showing that None is not equal to 0 \n",
    "# prints False as its false. \n",
    "print (None == 0) \n",
    "  \n",
    "# showing objective of None \n",
    "# two None value equated to None \n",
    "# here x and y both are null \n",
    "# hence true \n",
    "x = None\n",
    "y = None\n",
    "print (x == y) \n",
    "  \n",
    "# showing logical operation  \n",
    "print (True or False) \n",
    "  \n",
    "  \n",
    "# and (returns False) \n",
    "print (False and True) \n",
    "  \n",
    "  \n",
    "# not (returns False) \n",
    "print (not True) "
   ]
  },
  {
   "cell_type": "code",
   "execution_count": 4,
   "metadata": {},
   "outputs": [
    {
     "name": "stdout",
     "output_type": "stream",
     "text": [
      "[1, 2, 3]\n",
      "[1, 2]\n"
     ]
    },
    {
     "ename": "AssertionError",
     "evalue": "5 is not smaller than 3",
     "output_type": "error",
     "traceback": [
      "\u001b[1;31m---------------------------------------------------------------------------\u001b[0m",
      "\u001b[1;31mAssertionError\u001b[0m                            Traceback (most recent call last)",
      "\u001b[1;32m<ipython-input-4-d5bc17e235b8>\u001b[0m in \u001b[0;36m<module>\u001b[1;34m\u001b[0m\n\u001b[0;32m      8\u001b[0m \u001b[1;31m# Python code to demonstrate assert\u001b[0m\u001b[1;33m\u001b[0m\u001b[1;33m\u001b[0m\u001b[1;33m\u001b[0m\u001b[0m\n\u001b[0;32m      9\u001b[0m \u001b[1;33m\u001b[0m\u001b[0m\n\u001b[1;32m---> 10\u001b[1;33m \u001b[1;32massert\u001b[0m \u001b[1;36m5\u001b[0m \u001b[1;33m<\u001b[0m \u001b[1;36m3\u001b[0m\u001b[1;33m,\u001b[0m \u001b[1;34m\"5 is not smaller than 3\"\u001b[0m\u001b[1;33m\u001b[0m\u001b[1;33m\u001b[0m\u001b[0m\n\u001b[0m",
      "\u001b[1;31mAssertionError\u001b[0m: 5 is not smaller than 3"
     ]
    }
   ],
   "source": [
    "\n",
    "# Python code to demonstrate del\n",
    "a = [1, 2, 3] \n",
    "print (a) \n",
    "del a[2] \n",
    "print (a) \n",
    "\n",
    "# Python code to demonstrate assert \n",
    "  \n",
    "assert 5 < 3, \"5 is not smaller than 3\""
   ]
  },
  {
   "cell_type": "code",
   "execution_count": 5,
   "metadata": {},
   "outputs": [
    {
     "name": "stdout",
     "output_type": "stream",
     "text": [
      "s is present\n",
      "s a j a l \r\n",
      "True\n",
      "False\n"
     ]
    }
   ],
   "source": [
    "\n",
    "# Python code to demonstrate working of in and is \n",
    "  \n",
    "if 's' in 'sajal': \n",
    "       print (\"s is present\") \n",
    "else : print (\"s is not present\") \n",
    "  \n",
    "\n",
    "for i in 'sajal': \n",
    "    print (i,end=\" \") \n",
    "  \n",
    "print (\"\\r\") \n",
    "      \n",
    "# using is to check object identity \n",
    "# string is immutable( cannot be changed once alloted) \n",
    "# hence occupy same memory location \n",
    "print (' ' is ' ') \n",
    "  \n",
    "# using is to check object identity \n",
    "# dictionary is mutable( can be changed once alloted) \n",
    "# hence occupy different memory location \n",
    "print ({} is {}) \n"
   ]
  },
  {
   "cell_type": "code",
   "execution_count": 9,
   "metadata": {},
   "outputs": [
    {
     "name": "stdout",
     "output_type": "stream",
     "text": [
      "10\n",
      "5\n",
      "5\n",
      "Value of a using nonlocal is : 10\n",
      "Value of a without using nonlocal is : 5\n"
     ]
    }
   ],
   "source": [
    "#initializing variable globally \n",
    "a = 10\n",
    "  \n",
    "# used to read the variable \n",
    "def read(): \n",
    "    print (a) \n",
    "  \n",
    "# changing the value of globally defined variable \n",
    "def mod1(): \n",
    "    global a  \n",
    "    a = 5\n",
    "  \n",
    "# changing value of only local variable \n",
    "def mod2(): \n",
    "    a = 15\n",
    "\n",
    "read() \n",
    "  \n",
    "# calling mod 1 function to modify value modifies value of global a to 5 \n",
    "mod1() \n",
    "read() \n",
    "  \n",
    "# calling mod 2 function to modify value  modifies value of local a to 15, doesn't effect global value \n",
    "mod2()  \n",
    "read() \n",
    "  \n",
    "# demonstrating non local  \n",
    "# inner loop changing the value of outer a \n",
    "\n",
    "print (\"Value of a using nonlocal is : \",end=\"\") \n",
    "def outer(): \n",
    "    a = 5\n",
    "    def inner(): \n",
    "        nonlocal a  \n",
    "        a = 10\n",
    "    inner() \n",
    "    print (a) \n",
    "  \n",
    "outer() \n",
    "  \n",
    "# demonstrating without non local  \n",
    "# inner loop not changing the value of outer a \n",
    "print (\"Value of a without using nonlocal is : \",end=\"\") \n",
    "def outer(): \n",
    "    a = 5\n",
    "    def inner(): \n",
    "        a = 10\n",
    "    inner() \n",
    "    print (a) \n",
    "  \n",
    "outer() "
   ]
  },
  {
   "cell_type": "code",
   "execution_count": 1,
   "metadata": {},
   "outputs": [],
   "source": [
    "#namespace\n",
    "# var1 is in the global namespace  \n",
    "var1 = 5\n",
    "def func(): \n",
    "  \n",
    "    # var2 is in the local namespace  \n",
    "    var2 = 6\n",
    "    def inner_func(): \n",
    "  \n",
    "        # var3 is in the nested local  \n",
    "        # namespace \n",
    "        var3 = 7"
   ]
  },
  {
   "cell_type": "code",
   "execution_count": 2,
   "metadata": {},
   "outputs": [
    {
     "name": "stdout",
     "output_type": "stream",
     "text": [
      "6\n"
     ]
    }
   ],
   "source": [
    "#namespace \n",
    "# declaring the global variable \n",
    "count = 5\n",
    "def increasevalue(): \n",
    "    global count \n",
    "    count = count + 1\n",
    "    print(count) \n",
    "increasevalue() "
   ]
  },
  {
   "cell_type": "code",
   "execution_count": 6,
   "metadata": {},
   "outputs": [
    {
     "name": "stdout",
     "output_type": "stream",
     "text": [
      "hello my name is sajal\n",
      "value: 10\n"
     ]
    },
    {
     "ename": "NameError",
     "evalue": "name 'value' is not defined",
     "output_type": "error",
     "traceback": [
      "\u001b[1;31m---------------------------------------------------------------------------\u001b[0m",
      "\u001b[1;31mNameError\u001b[0m                                 Traceback (most recent call last)",
      "\u001b[1;32m<ipython-input-6-3a4ac6b6ab10>\u001b[0m in \u001b[0;36m<module>\u001b[1;34m\u001b[0m\n\u001b[0;32m     10\u001b[0m     \u001b[0minnerfunc\u001b[0m\u001b[1;33m(\u001b[0m\u001b[1;33m)\u001b[0m\u001b[1;33m\u001b[0m\u001b[1;33m\u001b[0m\u001b[0m\n\u001b[0;32m     11\u001b[0m     \u001b[0mprint\u001b[0m\u001b[1;33m(\u001b[0m\u001b[1;34m\"value \"\u001b[0m\u001b[1;33m,\u001b[0m\u001b[0mvalue\u001b[0m\u001b[1;33m)\u001b[0m\u001b[1;33m\u001b[0m\u001b[1;33m\u001b[0m\u001b[0m\n\u001b[1;32m---> 12\u001b[1;33m \u001b[0mfunc\u001b[0m\u001b[1;33m(\u001b[0m\u001b[1;33m)\u001b[0m\u001b[1;33m\u001b[0m\u001b[1;33m\u001b[0m\u001b[0m\n\u001b[0m\u001b[0;32m     13\u001b[0m \u001b[1;33m\u001b[0m\u001b[0m\n\u001b[0;32m     14\u001b[0m \u001b[1;33m\u001b[0m\u001b[0m\n",
      "\u001b[1;32m<ipython-input-6-3a4ac6b6ab10>\u001b[0m in \u001b[0;36mfunc\u001b[1;34m()\u001b[0m\n\u001b[0;32m      9\u001b[0m         \u001b[0mprint\u001b[0m\u001b[1;33m(\u001b[0m\u001b[1;34m\"value:\"\u001b[0m\u001b[1;33m,\u001b[0m\u001b[0mvalue\u001b[0m\u001b[1;33m)\u001b[0m\u001b[1;33m\u001b[0m\u001b[1;33m\u001b[0m\u001b[0m\n\u001b[0;32m     10\u001b[0m     \u001b[0minnerfunc\u001b[0m\u001b[1;33m(\u001b[0m\u001b[1;33m)\u001b[0m\u001b[1;33m\u001b[0m\u001b[1;33m\u001b[0m\u001b[0m\n\u001b[1;32m---> 11\u001b[1;33m     \u001b[0mprint\u001b[0m\u001b[1;33m(\u001b[0m\u001b[1;34m\"value \"\u001b[0m\u001b[1;33m,\u001b[0m\u001b[0mvalue\u001b[0m\u001b[1;33m)\u001b[0m\u001b[1;33m\u001b[0m\u001b[1;33m\u001b[0m\u001b[0m\n\u001b[0m\u001b[0;32m     12\u001b[0m \u001b[0mfunc\u001b[0m\u001b[1;33m(\u001b[0m\u001b[1;33m)\u001b[0m\u001b[1;33m\u001b[0m\u001b[1;33m\u001b[0m\u001b[0m\n\u001b[0;32m     13\u001b[0m \u001b[1;33m\u001b[0m\u001b[0m\n",
      "\u001b[1;31mNameError\u001b[0m: name 'value' is not defined"
     ]
    }
   ],
   "source": [
    "#scope \n",
    "def func(): \n",
    "    print(\"hello my name is sajal\") \n",
    "    def innerfunc(): \n",
    "        value = 10\n",
    "        print(\"value:\",value) \n",
    "    innerfunc() \n",
    "    print(\"value \",value) \n",
    "func() \n",
    "\n",
    "\n"
   ]
  },
  {
   "cell_type": "code",
   "execution_count": 8,
   "metadata": {},
   "outputs": [],
   "source": [
    "#multi-line statement\n",
    "#Declared using Continuation Character (\\):\n",
    "s = 1 + 2 + 3 + \\\n",
    "    4 + 5 + 6 + \\\n",
    "    7 + 8 + 9\n",
    "\n",
    "#Declared using parentheses () :\n",
    "n = (1 * 2 * 3 + 7 + 8 + 9)\n",
    "\n",
    "#Declared using square brackets [] :\n",
    "footballer = ['MESSI',\n",
    "          'NEYMAR',\n",
    "          'SUAREZ']\n",
    "\n",
    "#Declared using braces {} :\n",
    "x = {1 + 2 + 3 + 4 + 5 + 6 +\n",
    "     7 + 8 + 9}\n",
    "\n",
    "#Declared using semicolons(;) :\n",
    "flag = 2; ropes = 3; pole = 4\n"
   ]
  },
  {
   "cell_type": "code",
   "execution_count": 10,
   "metadata": {},
   "outputs": [
    {
     "name": "stdout",
     "output_type": "stream",
     "text": [
      "hey sajal\n",
      "how can i help you !\n"
     ]
    }
   ],
   "source": [
    "#indentation\n",
    "\n",
    "name = 'sajal'\n",
    "  \n",
    "if name == 'sajal': \n",
    "    print('hey sajal') \n",
    "else: \n",
    "    print('plz enter the valid name') \n",
    "print('how can i help you !') "
   ]
  },
  {
   "cell_type": "code",
   "execution_count": 11,
   "metadata": {},
   "outputs": [
    {
     "name": "stdout",
     "output_type": "stream",
     "text": [
      "1\n",
      "2\n",
      "3\n",
      "4\n",
      "5\n"
     ]
    }
   ],
   "source": [
    "#indentation\n",
    "j = 1\n",
    "while(j<= 5): \n",
    "     print(j) \n",
    "     j = j + 1"
   ]
  },
  {
   "cell_type": "code",
   "execution_count": 12,
   "metadata": {},
   "outputs": [
    {
     "name": "stdout",
     "output_type": "stream",
     "text": [
      "sg\n"
     ]
    }
   ],
   "source": [
    "#comments\n",
    "\n",
    "# This is a comment \n",
    "# Print “sajal gupta” to console \n",
    "print(\"sg\") \n"
   ]
  },
  {
   "cell_type": "code",
   "execution_count": 13,
   "metadata": {},
   "outputs": [
    {
     "name": "stdout",
     "output_type": "stream",
     "text": [
      "learnt\n"
     ]
    }
   ],
   "source": [
    "#Multi-line string as comment \n",
    "'''This article  gives you a  \n",
    "perfect example of \n",
    "multi-line comments'''\n",
    "print(\"learnt\")"
   ]
  },
  {
   "cell_type": "code",
   "execution_count": 14,
   "metadata": {},
   "outputs": [
    {
     "name": "stdout",
     "output_type": "stream",
     "text": [
      "[2, 3]\n"
     ]
    },
    {
     "data": {
      "text/plain": [
       "' In the above mentioned format, the first  \\nindex is included, but the last index is not \\nincluded.'"
      ]
     },
     "execution_count": 14,
     "metadata": {},
     "output_type": "execute_result"
    }
   ],
   "source": [
    "#structuring\n",
    "  \n",
    "x = [1, 2, 3, 4] \n",
    "  \n",
    "# x[1:3] means that start from the index 1 and go upto the index 2 \n",
    "print(x[1:3])   \n",
    "  \n",
    "\"\"\" In the above mentioned format, the first  \n",
    "index is included, but the last index is not \n",
    "included.\"\"\""
   ]
  },
  {
   "cell_type": "code",
   "execution_count": 15,
   "metadata": {},
   "outputs": [
    {
     "name": "stdout",
     "output_type": "stream",
     "text": [
      "10\n",
      "20\n",
      "30\n"
     ]
    }
   ],
   "source": [
    "# Multiple Statements per Line\n",
    " \n",
    "  \n",
    "a = 10; b = 20; c = b + a \n",
    "  \n",
    "print(a); print(b); print(c) "
   ]
  },
  {
   "cell_type": "code",
   "execution_count": 19,
   "metadata": {},
   "outputs": [],
   "source": [
    "#Line Continuation  \n",
    "x = 10\n",
    "y = 20\n",
    "z = 30\n",
    "no_of_teachers = x\n",
    "no_of_male_students = y\n",
    "no_of_female_students = z\n",
    "\n",
    "if (no_of_teachers == 10 & no_of_female_students == 30 & no_of_male_students == 20 & (x + y) == 30):\n",
    "    \n",
    "        print('The course is valid')"
   ]
  },
  {
   "cell_type": "code",
   "execution_count": 20,
   "metadata": {},
   "outputs": [
    {
     "name": "stdout",
     "output_type": "stream",
     "text": [
      "2 Persons should have ID Cards\n"
     ]
    }
   ],
   "source": [
    "# Implicit Line Continuation \n",
    "  \n",
    "person_1 = 18\n",
    "person_2 = 20\n",
    "person_3 = 12\n",
    "  \n",
    "if ( \n",
    "   person_1 >= 18 and\n",
    "   person_2 >= 18 and\n",
    "   person_3 < 18\n",
    "   ): \n",
    "    print('2 Persons should have ID Cards') "
   ]
  },
  {
   "cell_type": "code",
   "execution_count": 24,
   "metadata": {},
   "outputs": [
    {
     "name": "stdout",
     "output_type": "stream",
     "text": [
      "24\n"
     ]
    }
   ],
   "source": [
    "#Explicit Line Continuation\n",
    " \n",
    "  \n",
    "x =\\\n",
    "1 + 2\\\n",
    "+ 5 + 6\\\n",
    "+ 10\n",
    "  \n",
    "print(x) "
   ]
  },
  {
   "cell_type": "code",
   "execution_count": 25,
   "metadata": {},
   "outputs": [
    {
     "name": "stdout",
     "output_type": "stream",
     "text": [
      "True\n"
     ]
    }
   ],
   "source": [
    "#whitespace\n",
    "  \n",
    "x = [1, 2, 3] \n",
    "y = 2\n",
    "  \n",
    "\"\"\" Following is incorrect, and will generate syntax error \n",
    "a = yin x \n",
    "\"\"\"\n",
    "  \n",
    "# Corrected version is written as \n",
    "a = y in x \n",
    "print(a) "
   ]
  },
  {
   "cell_type": "code",
   "execution_count": 26,
   "metadata": {},
   "outputs": [
    {
     "ename": "IndentationError",
     "evalue": "unexpected indent (<ipython-input-26-2fa6d67d19c0>, line 5)",
     "output_type": "error",
     "traceback": [
      "\u001b[1;36m  File \u001b[1;32m\"<ipython-input-26-2fa6d67d19c0>\"\u001b[1;36m, line \u001b[1;32m5\u001b[0m\n\u001b[1;33m    print('foo') # This will generate an error\u001b[0m\n\u001b[1;37m    ^\u001b[0m\n\u001b[1;31mIndentationError\u001b[0m\u001b[1;31m:\u001b[0m unexpected indent\n"
     ]
    }
   ],
   "source": [
    "#Whitespaces as Indentation \n",
    "  \n",
    "print('foo') # Correct \n",
    "  \n",
    "   print('foo') # This will generate an error \n"
   ]
  },
  {
   "cell_type": "code",
   "execution_count": 27,
   "metadata": {},
   "outputs": [
    {
     "name": "stdout",
     "output_type": "stream",
     "text": [
      "x > 5\n",
      "x > 5\n",
      "x > 5\n",
      "x < 5\n",
      "x < 5\n"
     ]
    }
   ],
   "source": [
    "\n",
    "# Example \n",
    "  \n",
    "x = 10\n",
    "  \n",
    "while(x != 0):   \n",
    " if(x > 5):   # Line 1 \n",
    "  print('x > 5')  # Line 2 \n",
    " else:        # Line 3 \n",
    "  print('x < 5') # Line 4 \n",
    " x -= 2       # Line 5 "
   ]
  },
  {
   "cell_type": "code",
   "execution_count": 28,
   "metadata": {},
   "outputs": [
    {
     "name": "stdout",
     "output_type": "stream",
     "text": [
      "for is a python keyword\n",
      "sajal is not a python keyword\n",
      "elif is a python keyword\n",
      "elseif is not a python keyword\n",
      "shreya is not a python keyword\n",
      "assert is a python keyword\n",
      "riya is not a python keyword\n",
      "True is a python keyword\n",
      "False is a python keyword\n",
      "ojaswi is not a python keyword\n",
      "akash is not a python keyword\n",
      "break is a python keyword\n",
      "prince is not a python keyword\n",
      "lambda is a python keyword\n",
      "shiv is not a python keyword\n",
      "try is a python keyword\n",
      "vaishnavi is not a python keyword\n"
     ]
    }
   ],
   "source": [
    "#How to check if a string is keyword\n",
    "\n",
    "\n",
    "\n",
    "# importing \"keyword\" for keyword operations \n",
    "import keyword \n",
    "  \n",
    "# initializing strings for testing \n",
    "s = \"for\"\n",
    "s1 = \"sajal\"\n",
    "s2 = \"elif\"\n",
    "s3 = \"elseif\"\n",
    "s4 = \"shreya\"\n",
    "s5 = \"assert\"\n",
    "s6 = \"riya\"\n",
    "s7 = \"True\"\n",
    "s8 = \"False\"\n",
    "s9 = \"ojaswi\"\n",
    "s10 = \"akash\"\n",
    "s11 = \"break\"\n",
    "s12 = \"prince\"\n",
    "s13 = \"lambda\"\n",
    "s14 = \"shiv\"\n",
    "s15 = \"try\"\n",
    "s16 = \"vaishnavi\"\n",
    "  \n",
    "# checking which are keywords \n",
    "if keyword.iskeyword(s): \n",
    "        print ( s + \" is a python keyword\") \n",
    "else :  print ( s + \" is not a python keyword\") \n",
    "  \n",
    "if keyword.iskeyword(s1): \n",
    "        print ( s1 + \" is a python keyword\") \n",
    "else :  print ( s1 + \" is not a python keyword\") \n",
    "  \n",
    "if keyword.iskeyword(s2): \n",
    "        print ( s2 + \" is a python keyword\") \n",
    "else :  print ( s2 + \" is not a python keyword\") \n",
    "  \n",
    "if keyword.iskeyword(s3): \n",
    "        print ( s3 + \" is a python keyword\") \n",
    "else :  print ( s3 + \" is not a python keyword\") \n",
    "  \n",
    "if keyword.iskeyword(s4): \n",
    "        print ( s4 + \" is a python keyword\") \n",
    "else :  print ( s4 + \" is not a python keyword\") \n",
    "  \n",
    "if keyword.iskeyword(s5): \n",
    "        print ( s5 + \" is a python keyword\") \n",
    "else :  print ( s5 + \" is not a python keyword\") \n",
    "  \n",
    "if keyword.iskeyword(s6): \n",
    "        print ( s6 + \" is a python keyword\") \n",
    "else :  print ( s6 + \" is not a python keyword\") \n",
    "  \n",
    "if keyword.iskeyword(s7): \n",
    "        print ( s7 + \" is a python keyword\") \n",
    "else :  print ( s7 + \" is not a python keyword\") \n",
    "  \n",
    "if keyword.iskeyword(s8): \n",
    "        print ( s8 + \" is a python keyword\") \n",
    "else :  print ( s8 + \" is not a python keyword\") \n",
    "  \n",
    "if keyword.iskeyword(s9): \n",
    "        print ( s9 + \" is a python keyword\") \n",
    "else :  print ( s9 + \" is not a python keyword\") \n",
    "  \n",
    "if keyword.iskeyword(s10): \n",
    "        print ( s10 + \" is a python keyword\") \n",
    "else :  print ( s10 + \" is not a python keyword\") \n",
    "  \n",
    "if keyword.iskeyword(s11): \n",
    "        print ( s11 + \" is a python keyword\") \n",
    "else :  print ( s11 + \" is not a python keyword\") \n",
    "  \n",
    "if keyword.iskeyword(s12): \n",
    "        print ( s12 + \" is a python keyword\") \n",
    "else :  print ( s12 + \" is not a python keyword\") \n",
    "  \n",
    "if keyword.iskeyword(s13): \n",
    "        print ( s13 + \" is a python keyword\") \n",
    "else :  print ( s13 + \" is not a python keyword\") \n",
    "  \n",
    "if keyword.iskeyword(s14): \n",
    "        print ( s14 + \" is a python keyword\") \n",
    "else :  print ( s14 + \" is not a python keyword\") \n",
    "  \n",
    "if keyword.iskeyword(s15): \n",
    "        print ( s15 + \" is a python keyword\") \n",
    "else :  print ( s15 + \" is not a python keyword\") \n",
    "  \n",
    "if keyword.iskeyword(s16): \n",
    "        print ( s16 + \" is a python keyword\") \n",
    "else :  print ( s16 + \" is not a python keyword\") "
   ]
  },
  {
   "cell_type": "code",
   "execution_count": 29,
   "metadata": {},
   "outputs": [
    {
     "name": "stdout",
     "output_type": "stream",
     "text": [
      "The list of keywords is : \n",
      "['False', 'None', 'True', 'and', 'as', 'assert', 'async', 'await', 'break', 'class', 'continue', 'def', 'del', 'elif', 'else', 'except', 'finally', 'for', 'from', 'global', 'if', 'import', 'in', 'is', 'lambda', 'nonlocal', 'not', 'or', 'pass', 'raise', 'return', 'try', 'while', 'with', 'yield']\n"
     ]
    }
   ],
   "source": [
    "#How to print list of all keywords\n",
    "import keyword \n",
    "  \n",
    "# printing all keywords at once using \"kwlist()\" \n",
    "print (\"The list of keywords is : \") \n",
    "print (keyword.kwlist) "
   ]
  },
  {
   "cell_type": "code",
   "execution_count": 30,
   "metadata": {},
   "outputs": [
    {
     "name": "stdout",
     "output_type": "stream",
     "text": [
      "The value of a is: 1\n"
     ]
    }
   ],
   "source": [
    "#One liner if-else instead of Conditional Operator (?:) in Python\n",
    "# initialising variable using Conditional Operator \n",
    "# a = 20 > 10 ? 1 : 0 is not possible in Python \n",
    "# Instead there is one liner if-else \n",
    "a = 1 if 20 > 10 else 0\n",
    "  \n",
    "# printing value of a \n",
    "print (\"The value of a is: \" + str(a)) "
   ]
  },
  {
   "cell_type": "code",
   "execution_count": 31,
   "metadata": {},
   "outputs": [
    {
     "name": "stdout",
     "output_type": "stream",
     "text": [
      "HELLO SAJAL GUPTA\n",
      "1 2 3 4 "
     ]
    }
   ],
   "source": [
    "#Print without newline\n",
    "\n",
    "\n",
    "print(\"HELLO\", end =\" \") \n",
    "print(\"SAJAL GUPTA\") \n",
    "  \n",
    "# array \n",
    "a = [1, 2, 3, 4] \n",
    "  \n",
    "# printing a element in same line\n",
    "for i in range(4): \n",
    "    print(a[i], end =\" \")  "
   ]
  },
  {
   "cell_type": "code",
   "execution_count": 32,
   "metadata": {},
   "outputs": [
    {
     "name": "stdout",
     "output_type": "stream",
     "text": [
      "I am Not in if\n"
     ]
    }
   ],
   "source": [
    "# Decision Making \n",
    "\n",
    "#if statement\n",
    "\n",
    "  \n",
    "i = 10\n",
    "if (i > 15): \n",
    "   print (\"10 is less than 15\") \n",
    "print (\"I am Not in if\")"
   ]
  },
  {
   "cell_type": "code",
   "execution_count": 33,
   "metadata": {},
   "outputs": [
    {
     "name": "stdout",
     "output_type": "stream",
     "text": [
      "i is greater than 15\n",
      "i'm in else Block\n",
      "i'm not in if and not in else Block\n"
     ]
    }
   ],
   "source": [
    "# if-else\n",
    "\n",
    "\n",
    "i = 20; \n",
    "if (i < 15): \n",
    "    print (\"i is smaller than 15\") \n",
    "    print (\"i'm in if Block\") \n",
    "else: \n",
    "    print (\"i is greater than 15\") \n",
    "    print (\"i'm in else Block\") \n",
    "print (\"i'm not in if and not in else Block\") "
   ]
  },
  {
   "cell_type": "code",
   "execution_count": 34,
   "metadata": {},
   "outputs": [
    {
     "name": "stdout",
     "output_type": "stream",
     "text": [
      "i is smaller than 15\n",
      "i is smaller than 12 too\n"
     ]
    }
   ],
   "source": [
    "#nested if\n",
    "\n",
    "i = 10\n",
    "if (i == 10): \n",
    "    #  First if statement \n",
    "    if (i < 15): \n",
    "        print (\"i is smaller than 15\") \n",
    "    # Nested - if statement \n",
    "    # Will only be executed if statement above  it is true  \n",
    "    \n",
    "    if (i < 12): \n",
    "        print (\"i is smaller than 12 too\") \n",
    "    else: \n",
    "        print (\"i is greater than 15\") "
   ]
  },
  {
   "cell_type": "code",
   "execution_count": 35,
   "metadata": {},
   "outputs": [
    {
     "name": "stdout",
     "output_type": "stream",
     "text": [
      "i is 20\n"
     ]
    }
   ],
   "source": [
    "# if-elif-else \n",
    "   \n",
    "i = 20\n",
    "if (i == 10): \n",
    "    print (\"i is 10\") \n",
    "elif (i == 15): \n",
    "    print (\"i is 15\") \n",
    "elif (i == 20): \n",
    "    print (\"i is 20\") \n",
    "else: \n",
    "    print (\"i is not present\") "
   ]
  },
  {
   "cell_type": "code",
   "execution_count": null,
   "metadata": {},
   "outputs": [],
   "source": []
  }
 ],
 "metadata": {
  "kernelspec": {
   "display_name": "Python 3",
   "language": "python",
   "name": "python3"
  },
  "language_info": {
   "codemirror_mode": {
    "name": "ipython",
    "version": 3
   },
   "file_extension": ".py",
   "mimetype": "text/x-python",
   "name": "python",
   "nbconvert_exporter": "python",
   "pygments_lexer": "ipython3",
   "version": "3.7.3"
  }
 },
 "nbformat": 4,
 "nbformat_minor": 2
}
