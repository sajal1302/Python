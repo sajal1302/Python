{
 "cells": [
  {
   "cell_type": "code",
   "execution_count": 1,
   "metadata": {},
   "outputs": [],
   "source": [
    "#input and output"
   ]
  },
  {
   "cell_type": "code",
   "execution_count": 2,
   "metadata": {},
   "outputs": [
    {
     "name": "stdout",
     "output_type": "stream",
     "text": [
      "Enter your value: 13\n",
      "13\n"
     ]
    }
   ],
   "source": [
    "# Taking input() \n",
    "  \n",
    "val = input(\"Enter your value: \") \n",
    "print(val) "
   ]
  },
  {
   "cell_type": "code",
   "execution_count": 5,
   "metadata": {},
   "outputs": [
    {
     "name": "stdout",
     "output_type": "stream",
     "text": [
      "Enter number :10\n",
      "10\n",
      "Enter name : sajal\n",
      "sajal\n",
      "type of number <class 'int'>\n",
      "type of name <class 'str'>\n"
     ]
    }
   ],
   "source": [
    "# checking type \n",
    "  \n",
    "num = (input (\"Enter number :\"))\n",
    "print(num) \n",
    "name1 = input(\"Enter name : \") \n",
    "print(name1) \n",
    "  \n",
    "\n",
    "print (\"type of number\", type(num)) \n",
    "print (\"type of name\", type(name1)) "
   ]
  },
  {
   "cell_type": "code",
   "execution_count": null,
   "metadata": {},
   "outputs": [],
   "source": [
    "#type casting"
   ]
  },
  {
   "cell_type": "code",
   "execution_count": 6,
   "metadata": {},
   "outputs": [
    {
     "name": "stdout",
     "output_type": "stream",
     "text": [
      "12\n",
      "13\n",
      "25\n"
     ]
    }
   ],
   "source": [
    "# to integer\n",
    " \n",
    "num1 = int(input()) \n",
    "num2 = int(input()) \n",
    "  \n",
    "print(num1 + num2) "
   ]
  },
  {
   "cell_type": "code",
   "execution_count": 7,
   "metadata": {},
   "outputs": [
    {
     "name": "stdout",
     "output_type": "stream",
     "text": [
      "3.3\n",
      "2.6\n",
      "5.9\n"
     ]
    }
   ],
   "source": [
    "#to float\n",
    "\n",
    "\n",
    "num1 = float(input()) \n",
    "num2 = float(input()) \n",
    "  \n",
    "print(num1 + num2) "
   ]
  },
  {
   "cell_type": "code",
   "execution_count": 8,
   "metadata": {},
   "outputs": [
    {
     "name": "stdout",
     "output_type": "stream",
     "text": [
      "sajal\n",
      "sajal\n"
     ]
    }
   ],
   "source": [
    "# to srting\n",
    "\n",
    "\n",
    "string = str(input()) \n",
    "  \n",
    " \n",
    "print(string) "
   ]
  },
  {
   "cell_type": "code",
   "execution_count": 9,
   "metadata": {},
   "outputs": [],
   "source": [
    "# MULTIPLE INPUTS"
   ]
  },
  {
   "cell_type": "code",
   "execution_count": 10,
   "metadata": {},
   "outputs": [],
   "source": [
    "# 1. split() method"
   ]
  },
  {
   "cell_type": "code",
   "execution_count": 12,
   "metadata": {},
   "outputs": [
    {
     "name": "stdout",
     "output_type": "stream",
     "text": [
      "Enter a two value: 2 1\n",
      "Number of boys:  2\n",
      "Number of girls:  1\n",
      "\n",
      "Enter a three value: 2 3 4\n",
      "Total number of students:  2\n",
      "Number of boys is :  3\n",
      "Number of girls is :  4\n",
      "\n",
      "Enter a two value: 20 30\n",
      "First number is 20 and second number is 30\n",
      "\n",
      "Enter a multiple value: 30 400 00 50 30\n",
      "List of students:  [30, 400, 0, 50, 30]\n"
     ]
    }
   ],
   "source": [
    "# taking two inputs at a time \n",
    "x, y = input(\"Enter a two value: \").split() \n",
    "print(\"Number of boys: \", x) \n",
    "print(\"Number of girls: \", y) \n",
    "print() \n",
    "  \n",
    "# taking three inputs at a time \n",
    "x, y, z = input(\"Enter a three value: \").split() \n",
    "print(\"Total number of students: \", x) \n",
    "print(\"Number of boys is : \", y) \n",
    "print(\"Number of girls is : \", z) \n",
    "print() \n",
    "  \n",
    "# taking two inputs at a time \n",
    "a, b = input(\"Enter a two value: \").split() \n",
    "print(\"First number is {} and second number is {}\".format(a, b)) \n",
    "print() \n",
    "  \n",
    "# taking multiple inputs at a time  \n",
    "# and type casting using list() function \n",
    "x = list(map(int, input(\"Enter a multiple value: \").split())) \n",
    "print(\"List of students: \", x) "
   ]
  },
  {
   "cell_type": "code",
   "execution_count": 13,
   "metadata": {},
   "outputs": [],
   "source": [
    "# 2. LIST COMPREHENSION"
   ]
  },
  {
   "cell_type": "code",
   "execution_count": 15,
   "metadata": {},
   "outputs": [
    {
     "name": "stdout",
     "output_type": "stream",
     "text": [
      "Enter two value: 2 3\n",
      "First Number is:  2\n",
      "Second Number is:  3\n",
      "\n",
      "Enter three value: 2 3 4\n",
      "First Number is:  2\n",
      "Second Number is:  3\n",
      "Third Number is:  4\n",
      "\n",
      "Enter two value: 2 4\n",
      "First number is 2 and second number is 4\n",
      "\n",
      "Enter multiple value: 5 6 7 6 8 9 9  9 9 9\n",
      "Number of list is:  [5, 6, 7, 6, 8, 9, 9, 9, 9, 9]\n"
     ]
    }
   ],
   "source": [
    "# taking two input at a time \n",
    "x, y = [int(x) for x in input(\"Enter two value: \").split()] \n",
    "print(\"First Number is: \", x) \n",
    "print(\"Second Number is: \", y) \n",
    "print() \n",
    "  \n",
    "# taking three input at a time \n",
    "x, y, z = [int(x) for x in input(\"Enter three value: \").split()] \n",
    "print(\"First Number is: \", x) \n",
    "print(\"Second Number is: \", y) \n",
    "print(\"Third Number is: \", z) \n",
    "print() \n",
    "  \n",
    "# taking two inputs at a time \n",
    "x, y = [int(x) for x in input(\"Enter two value: \").split()] \n",
    "print(\"First number is {} and second number is {}\".format(x, y)) \n",
    "print() \n",
    "  \n",
    "# taking multiple inputs at a time  \n",
    "x = [int(x) for x in input(\"Enter multiple value: \").split()] \n",
    "print(\"Number of list is: \", x)  "
   ]
  },
  {
   "cell_type": "code",
   "execution_count": 17,
   "metadata": {},
   "outputs": [],
   "source": [
    "# output"
   ]
  },
  {
   "cell_type": "code",
   "execution_count": 30,
   "metadata": {},
   "outputs": [
    {
     "name": "stdout",
     "output_type": "stream",
     "text": [
      "SAJAL\n",
      "x = 5\n",
      "ssG\n",
      "hello@sajal\n"
     ]
    }
   ],
   "source": [
    "# One object is passed \n",
    "print(\"SAJAL\") \n",
    "  \n",
    "x = 5\n",
    "# Two objects are passed \n",
    "print(\"x =\", x) \n",
    "  \n",
    "# code for disabling the softspace feature  \n",
    "print('s', 's', 'G', sep ='') \n",
    "  \n",
    "# using end argument \n",
    "print(\"hello\", end = '@')   \n",
    "print(\"sajal\") "
   ]
  },
  {
   "cell_type": "code",
   "execution_count": 20,
   "metadata": {},
   "outputs": [],
   "source": [
    "# end parameter in print()"
   ]
  },
  {
   "cell_type": "code",
   "execution_count": 22,
   "metadata": {},
   "outputs": [
    {
     "name": "stdout",
     "output_type": "stream",
     "text": [
      "Welcome  sajal "
     ]
    }
   ],
   "source": [
    "print(\"Welcome \" , end = ' ')  \n",
    "print(\"sajal\", end = ' ') "
   ]
  },
  {
   "cell_type": "code",
   "execution_count": 24,
   "metadata": {},
   "outputs": [
    {
     "name": "stdout",
     "output_type": "stream",
     "text": [
      "sajal@ML\n"
     ]
    }
   ],
   "source": [
    "# ends the output with '@' \n",
    "print(\"sajal\" , end = '@')  \n",
    "print(\"ML\") "
   ]
  },
  {
   "cell_type": "code",
   "execution_count": 25,
   "metadata": {},
   "outputs": [],
   "source": [
    "# Python | sep parameter in print()"
   ]
  },
  {
   "cell_type": "code",
   "execution_count": 29,
   "metadata": {},
   "outputs": [
    {
     "name": "stdout",
     "output_type": "stream",
     "text": [
      "ssg\n",
      "13-02-1999\n",
      "SAJAL@python\n"
     ]
    }
   ],
   "source": [
    "#code for disabling the softspace feature \n",
    "print('s','s','g', sep='') \n",
    "  \n",
    "#for formatting a date \n",
    "print('13','02','1999', sep='-') \n",
    "  \n",
    "#another example \n",
    "print('SAJAL','python', sep='@') \n"
   ]
  },
  {
   "cell_type": "code",
   "execution_count": 31,
   "metadata": {},
   "outputs": [],
   "source": [
    "# output formatting"
   ]
  },
  {
   "cell_type": "code",
   "execution_count": 34,
   "metadata": {},
   "outputs": [
    {
     "name": "stdout",
     "output_type": "stream",
     "text": [
      "s :  1, Portal :  5.33\n",
      "Total students :  240, Boys :  120\n",
      "    031\n",
      " 3.561E+02\n"
     ]
    }
   ],
   "source": [
    "# string modulo operator(%) to print \n",
    "# fancier output \n",
    "  \n",
    "# print integer and float value \n",
    "print(\"s : % 2d, Portal : % 5.2f\" %(1, 05.333))  \n",
    "  \n",
    "# print integer value \n",
    "print(\"Total students : % 3d, Boys : % 2d\" %(240, 120)) \n",
    "  \n",
    "# print octal value \n",
    "print(\"% 7.3o\"% (25)) \n",
    "  \n",
    "# print exponential value \n",
    "print(\"% 10.3E\"% (356.08977)) "
   ]
  },
  {
   "cell_type": "code",
   "execution_count": 35,
   "metadata": {},
   "outputs": [
    {
     "name": "stdout",
     "output_type": "stream",
     "text": [
      "I love india for \"hello!\"\n",
      "sajal and Portal\n",
      "Portal and sajal\n"
     ]
    }
   ],
   "source": [
    " \n",
    "  \n",
    "# using format() method \n",
    "print('I love {} for \"{}!\"'.format('india', 'hello')) \n",
    "  \n",
    "# using format() method and refering  \n",
    "# a position of the object \n",
    "print('{0} and {1}'.format('sajal', 'Portal')) \n",
    "  \n",
    "print('{1} and {0}'.format('sajal', 'Portal')) \n"
   ]
  },
  {
   "cell_type": "code",
   "execution_count": 36,
   "metadata": {},
   "outputs": [
    {
     "name": "stdout",
     "output_type": "stream",
     "text": [
      "Number one person is sajal, For, and studies.\n",
      "s:12, Portal :    0.55\n",
      "Second argument:  11, first one:   47.42\n",
      "s:   453,  Portal:    59.06\n"
     ]
    }
   ],
   "source": [
    "# combining positional and keyword arguments \n",
    "print('Number one person is {0}, {1}, and {other}.'\n",
    "     .format('sajal', 'For', other ='studies')) \n",
    "  \n",
    "# using format() method with number  \n",
    "print(\"s:{0:2d}, Portal :{1:8.2f}\". \n",
    "      format(12, 00.546)) \n",
    "  \n",
    "# Changing positional argument \n",
    "print(\"Second argument: {1:3d}, first one: {0:7.2f}\". \n",
    "      format(47.42, 11)) \n",
    "  \n",
    "print(\"s: {a:5d},  Portal: {p:8.2f}\". \n",
    "     format(a = 453, p = 59.058)) "
   ]
  },
  {
   "cell_type": "code",
   "execution_count": null,
   "metadata": {},
   "outputs": [],
   "source": []
  }
 ],
 "metadata": {
  "kernelspec": {
   "display_name": "Python 3",
   "language": "python",
   "name": "python3"
  },
  "language_info": {
   "codemirror_mode": {
    "name": "ipython",
    "version": 3
   },
   "file_extension": ".py",
   "mimetype": "text/x-python",
   "name": "python",
   "nbconvert_exporter": "python",
   "pygments_lexer": "ipython3",
   "version": "3.7.3"
  }
 },
 "nbformat": 4,
 "nbformat_minor": 2
}
